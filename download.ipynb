{
 "cells": [
  {
   "cell_type": "markdown",
   "metadata": {},
   "source": [
    "### Import the required packages"
   ]
  },
  {
   "cell_type": "code",
   "execution_count": null,
   "metadata": {},
   "outputs": [],
   "source": [
    "import tarfile\n",
    "import wget\n",
    "from astropy.io import fits\n",
    "from sunpy.map import Map"
   ]
  },
  {
   "cell_type": "code",
   "execution_count": null,
   "metadata": {},
   "outputs": [],
   "source": [
    "#Set the default to unverified SSL \n",
    "import ssl\n",
    "ssl._create_default_https_context = ssl._create_unverified_context"
   ]
  },
  {
   "cell_type": "markdown",
   "metadata": {},
   "source": [
    "### Find and Download the data\n",
    "\n",
    "Go to <br>\n",
    "https://archive.sdc.leibniz-kis.de\n",
    "\n",
    "and search for the data, and get the ObjectId\n",
    "\n",
    "for e.g.<br>\n",
    "https://archive.sdc.leibniz-kis.de/SDCDetailServlet?Instrument=gris&ObjectId=607ca3317f4beda530910077\n",
    "\n",
    "The ObjectId is `607ca3317f4beda530910077`\n",
    "\n",
    "Note: This workflow will change once a proper API is in place"
   ]
  },
  {
   "cell_type": "code",
   "execution_count": null,
   "metadata": {},
   "outputs": [],
   "source": [
    "ObjectId='607ca3317f4beda530910077'"
   ]
  },
  {
   "cell_type": "markdown",
   "metadata": {},
   "source": [
    "The url for the Level 2 VFISV inversion data is"
   ]
  },
  {
   "cell_type": "code",
   "execution_count": null,
   "metadata": {},
   "outputs": [],
   "source": [
    "url = f'https://archive.sdc.leibniz-kis.de/ObservationBucketDownloader?ObjectId={ObjectId}&Instrument=gris&Buckets=level2&'"
   ]
  },
  {
   "cell_type": "markdown",
   "metadata": {},
   "source": [
    "The url points to a tar file. <br>\n",
    "Download the tar file to the local path using `wget`.<br>\n",
    "And open the thhe tar file using `tarfile.open`"
   ]
  },
  {
   "cell_type": "code",
   "execution_count": null,
   "metadata": {},
   "outputs": [],
   "source": [
    "tar_filename = wget.download(url)\n",
    "tar_file = tarfile.open(tar_filename)"
   ]
  },
  {
   "cell_type": "markdown",
   "metadata": {},
   "source": [
    "To see the contents of the tar file:"
   ]
  },
  {
   "cell_type": "code",
   "execution_count": null,
   "metadata": {},
   "outputs": [],
   "source": [
    "tar_file.getnames()"
   ]
  },
  {
   "cell_type": "markdown",
   "metadata": {},
   "source": [
    "The inversion results are in <br>\n",
    "`'gris_20201120_017/inversion/gris_20201120_017_inversion.fits'` <br>\n",
    "\n",
    "Extract the fits file from the tar and open using `astropy-fits`"
   ]
  },
  {
   "cell_type": "code",
   "execution_count": null,
   "metadata": {},
   "outputs": [],
   "source": [
    "fits_file = tar_file.extractfile(tar_file.getnames()[0])\n",
    "hdul = fits.open(fits_file)"
   ]
  },
  {
   "cell_type": "markdown",
   "metadata": {},
   "source": [
    "There are multiple HDU's in the fits file. <br>\n",
    "To look at thee line-of-sight velocity (HDU=1)"
   ]
  },
  {
   "cell_type": "code",
   "execution_count": null,
   "metadata": {},
   "outputs": [],
   "source": [
    "m = Map(hdul[1].data,hdul[1].header,slices=[\"x\", \"y\",0])\n",
    "m"
   ]
  }
 ],
 "metadata": {
  "kernelspec": {
   "display_name": "Python 3",
   "language": "python",
   "name": "python3"
  },
  "language_info": {
   "codemirror_mode": {
    "name": "ipython",
    "version": 3
   },
   "file_extension": ".py",
   "mimetype": "text/x-python",
   "name": "python",
   "nbconvert_exporter": "python",
   "pygments_lexer": "ipython3",
   "version": "3.7.9"
  }
 },
 "nbformat": 4,
 "nbformat_minor": 4
}
